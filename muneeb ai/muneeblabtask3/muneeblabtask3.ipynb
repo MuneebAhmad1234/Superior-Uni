{
 "cells": [
  {
   "cell_type": "code",
   "execution_count": null,
   "metadata": {},
   "outputs": [],
   "source": [
    "class Rectangle:\n",
    "    def __init__(self, width, height):\n",
    "        self.width = width\n",
    "        self.height = height\n",
    "\n",
    "    def __str__(self):\n",
    "        return f\"Rectangle: {self.width} x {self.height}\"\n",
    "\n",
    "    def area(self):\n",
    "        return self.width * self.height\n",
    "\n",
    "    def perimeter(self):\n",
    "        return 2 * (self.width + self.height)\n"
   ]
  },
  {
   "cell_type": "code",
   "execution_count": null,
   "metadata": {},
   "outputs": [],
   "source": [
    "class Rectangle:\n",
    "    def __init__(self, width, height):\n",
    "        self.width = width\n",
    "        self.height = height\n",
    "\n",
    "    def __str__(self):\n",
    "        return f\"Rectangle with width {self.width} and height {self.height}\"\n",
    "\n",
    "    def area(self):\n",
    "        return self.width * self.height\n",
    "\n",
    "    def perimeter(self):\n",
    "        return 2 * (self.width + self.height)\n",
    "\n",
    "width = float(input(\"Enter the width of the rectangle: \"))\n",
    "height = float(input(\"Enter the height of the rectangle: \"))\n",
    "\n",
    "\n",
    "rectangle = Rectangle(width, height)\n",
    "\n",
    "print(rectangle)\n",
    "\n",
    "print(f\"Area of the rectangle: {rectangle.area()}\")\n",
    "\n",
    "print(f\"Perimeter of the rectangle: {rectangle.perimeter()}\")\n"
   ]
  }
 ],
 "metadata": {
  "language_info": {
   "name": "python"
  }
 },
 "nbformat": 4,
 "nbformat_minor": 2
}
