{
 "cells": [
  {
   "cell_type": "code",
   "execution_count": null,
   "metadata": {},
   "outputs": [],
   "source": [
    "''''Difference between a class and an object in Python:\n",
    "\n",
    "In Python, a class is a blueprint or a template that defines the characteristics and behaviors of an object.\n",
    " It's a way to define a custom data type that can contain data and functions that operate on that data.\n",
    " A class is essentially a design pattern or a template that defines the properties and methods of an object.\n",
    "\n",
    "On the other hand, an object is an instance of a class.\n",
    " It's a specific entity that has its own set of attributes (data) and methods (functions) that are defined \n",
    " by the class. An object has its own set of values for its attributes, and it can be manipulated\n",
    " independently of other objects.'''"
   ]
  },
  {
   "cell_type": "code",
   "execution_count": 1,
   "metadata": {},
   "outputs": [
    {
     "name": "stdout",
     "output_type": "stream",
     "text": [
      "Toyota\n",
      "Corolla\n"
     ]
    }
   ],
   "source": [
    "# Class\n",
    "class Car:\n",
    "    def __init__(self, brand, model):\n",
    "        self.brand = brand\n",
    "        self.model = model\n",
    "\n",
    "# Object\n",
    "car1 = Car(\"Toyota\", \"Corolla\")\n",
    "print(car1.brand)\n",
    "print(car1.model)\n"
   ]
  },
  {
   "cell_type": "code",
   "execution_count": null,
   "metadata": {},
   "outputs": [],
   "source": [
    "''' Difference between __init__ method and __str__ function in Python:\n",
    "\n",
    "The __init__ method is a special method that is called when an object is created from a class.\n",
    " It is used to initialize the instance attributes of the object and prepare it for use. \n",
    " The __init__ method takes self as its first argument, followed by any other arguments that are required\n",
    "   to initialize the object.\n",
    "\n",
    "On the other hand, the __str__ function is a special method that is called when the str() function is used\n",
    " on an object. It is used to provide a human-readable representation of the object. The __str__ function \n",
    " takes self as its only argument and returns a string that represents the object.'''"
   ]
  },
  {
   "cell_type": "code",
   "execution_count": 2,
   "metadata": {},
   "outputs": [
    {
     "name": "stdout",
     "output_type": "stream",
     "text": [
      "Toyota Corolla\n"
     ]
    }
   ],
   "source": [
    "class Car:\n",
    "    def __init__(self, brand, model):\n",
    "        self.brand = brand\n",
    "        self.model = model\n",
    "\n",
    "    def __str__(self):\n",
    "        return f\"{self.brand} {self.model}\"\n",
    "\n",
    "my_car = Car(\"Toyota\", \"Corolla\")\n",
    "print(my_car)\n"
   ]
  },
  {
   "cell_type": "code",
   "execution_count": null,
   "metadata": {},
   "outputs": [],
   "source": []
  }
 ],
 "metadata": {
  "kernelspec": {
   "display_name": "Python 3",
   "language": "python",
   "name": "python3"
  },
  "language_info": {
   "codemirror_mode": {
    "name": "ipython",
    "version": 3
   },
   "file_extension": ".py",
   "mimetype": "text/x-python",
   "name": "python",
   "nbconvert_exporter": "python",
   "pygments_lexer": "ipython3",
   "version": "3.11.9"
  }
 },
 "nbformat": 4,
 "nbformat_minor": 2
}
